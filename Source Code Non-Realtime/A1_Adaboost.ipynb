{
  "cells": [
    {
      "cell_type": "code",
      "execution_count": null,
      "metadata": {
        "id": "ya9Qf5krbEz-"
      },
      "outputs": [],
      "source": [
        "import matplotlib.pyplot as plt\n",
        "import numpy as np\n",
        "import pandas as pd\n",
        "from sklearn.ensemble import AdaBoostClassifier\n",
        "from sklearn.model_selection import train_test_split # Import train_test_split function\n",
        "from sklearn import metrics #Import scikit-learn metrics module for accuracy calculation\n",
        "from sklearn.preprocessing import LabelEncoder, StandardScaler"
      ]
    },
    {
      "cell_type": "code",
      "execution_count": null,
      "metadata": {
        "colab": {
          "base_uri": "https://localhost:8080/",
          "height": 554
        },
        "id": "Bb47zyCZlO7-",
        "outputId": "63cf6a1c-f3c5-47c5-c5ba-36991249be26"
      },
      "outputs": [
        {
          "data": {
            "text/html": [
              "<div>\n",
              "<style scoped>\n",
              "    .dataframe tbody tr th:only-of-type {\n",
              "        vertical-align: middle;\n",
              "    }\n",
              "\n",
              "    .dataframe tbody tr th {\n",
              "        vertical-align: top;\n",
              "    }\n",
              "\n",
              "    .dataframe thead th {\n",
              "        text-align: right;\n",
              "    }\n",
              "</style>\n",
              "<table border=\"1\" class=\"dataframe\">\n",
              "  <thead>\n",
              "    <tr style=\"text-align: right;\">\n",
              "      <th></th>\n",
              "      <th>No.</th>\n",
              "      <th>Time</th>\n",
              "      <th>Source</th>\n",
              "      <th>Destination</th>\n",
              "      <th>Protocol</th>\n",
              "      <th>Length</th>\n",
              "      <th>Label</th>\n",
              "      <th>Info</th>\n",
              "    </tr>\n",
              "  </thead>\n",
              "  <tbody>\n",
              "    <tr>\n",
              "      <th>0</th>\n",
              "      <td>1</td>\n",
              "      <td>0.000000</td>\n",
              "      <td>131.202.240.87</td>\n",
              "      <td>173.252.100.27</td>\n",
              "      <td>TLSv1.2</td>\n",
              "      <td>1181</td>\n",
              "      <td>NON-VPN</td>\n",
              "      <td>Application Data</td>\n",
              "    </tr>\n",
              "    <tr>\n",
              "      <th>1</th>\n",
              "      <td>2</td>\n",
              "      <td>0.002719</td>\n",
              "      <td>131.202.240.87</td>\n",
              "      <td>131.202.244.3</td>\n",
              "      <td>DNS</td>\n",
              "      <td>76</td>\n",
              "      <td>NON-VPN</td>\n",
              "      <td>Standard query 0x5dc4 A www.facebook.com</td>\n",
              "    </tr>\n",
              "    <tr>\n",
              "      <th>2</th>\n",
              "      <td>3</td>\n",
              "      <td>0.078089</td>\n",
              "      <td>131.202.244.3</td>\n",
              "      <td>131.202.240.87</td>\n",
              "      <td>DNS</td>\n",
              "      <td>183</td>\n",
              "      <td>NON-VPN</td>\n",
              "      <td>Standard query response 0x5dc4 A www.facebook....</td>\n",
              "    </tr>\n",
              "    <tr>\n",
              "      <th>3</th>\n",
              "      <td>4</td>\n",
              "      <td>0.078691</td>\n",
              "      <td>131.202.240.87</td>\n",
              "      <td>131.202.244.3</td>\n",
              "      <td>DNS</td>\n",
              "      <td>76</td>\n",
              "      <td>NON-VPN</td>\n",
              "      <td>Standard query 0xd12d AAAA www.facebook.com</td>\n",
              "    </tr>\n",
              "    <tr>\n",
              "      <th>4</th>\n",
              "      <td>5</td>\n",
              "      <td>0.079078</td>\n",
              "      <td>131.202.244.3</td>\n",
              "      <td>131.202.240.87</td>\n",
              "      <td>DNS</td>\n",
              "      <td>195</td>\n",
              "      <td>NON-VPN</td>\n",
              "      <td>Standard query response 0xd12d AAAA www.facebo...</td>\n",
              "    </tr>\n",
              "    <tr>\n",
              "      <th>...</th>\n",
              "      <td>...</td>\n",
              "      <td>...</td>\n",
              "      <td>...</td>\n",
              "      <td>...</td>\n",
              "      <td>...</td>\n",
              "      <td>...</td>\n",
              "      <td>...</td>\n",
              "      <td>...</td>\n",
              "    </tr>\n",
              "    <tr>\n",
              "      <th>1323895</th>\n",
              "      <td>370478</td>\n",
              "      <td>2867.070717</td>\n",
              "      <td>10.8.0.14</td>\n",
              "      <td>173.194.76.127</td>\n",
              "      <td>UDP</td>\n",
              "      <td>143</td>\n",
              "      <td>VPN</td>\n",
              "      <td>51351  &gt;  19305 Len=115</td>\n",
              "    </tr>\n",
              "    <tr>\n",
              "      <th>1323896</th>\n",
              "      <td>370479</td>\n",
              "      <td>2867.073160</td>\n",
              "      <td>173.194.76.127</td>\n",
              "      <td>10.8.0.14</td>\n",
              "      <td>UDP</td>\n",
              "      <td>74</td>\n",
              "      <td>VPN</td>\n",
              "      <td>19305  &gt;  51351 Len=46</td>\n",
              "    </tr>\n",
              "    <tr>\n",
              "      <th>1323897</th>\n",
              "      <td>370480</td>\n",
              "      <td>2867.073192</td>\n",
              "      <td>173.194.76.127</td>\n",
              "      <td>10.8.0.14</td>\n",
              "      <td>UDP</td>\n",
              "      <td>66</td>\n",
              "      <td>VPN</td>\n",
              "      <td>19305  &gt;  51351 Len=38</td>\n",
              "    </tr>\n",
              "    <tr>\n",
              "      <th>1323898</th>\n",
              "      <td>370481</td>\n",
              "      <td>2867.089662</td>\n",
              "      <td>173.194.76.127</td>\n",
              "      <td>10.8.0.14</td>\n",
              "      <td>UDP</td>\n",
              "      <td>143</td>\n",
              "      <td>VPN</td>\n",
              "      <td>19305  &gt;  51351 Len=115</td>\n",
              "    </tr>\n",
              "    <tr>\n",
              "      <th>1323899</th>\n",
              "      <td>370482</td>\n",
              "      <td>2867.090273</td>\n",
              "      <td>10.8.0.14</td>\n",
              "      <td>173.194.76.127</td>\n",
              "      <td>UDP</td>\n",
              "      <td>143</td>\n",
              "      <td>VPN</td>\n",
              "      <td>51351  &gt;  19305 Len=115</td>\n",
              "    </tr>\n",
              "  </tbody>\n",
              "</table>\n",
              "<p>1323900 rows × 8 columns</p>\n",
              "</div>"
            ],
            "text/plain": [
              "            No.         Time          Source     Destination Protocol  Length  \\\n",
              "0             1     0.000000  131.202.240.87  173.252.100.27  TLSv1.2    1181   \n",
              "1             2     0.002719  131.202.240.87   131.202.244.3      DNS      76   \n",
              "2             3     0.078089   131.202.244.3  131.202.240.87      DNS     183   \n",
              "3             4     0.078691  131.202.240.87   131.202.244.3      DNS      76   \n",
              "4             5     0.079078   131.202.244.3  131.202.240.87      DNS     195   \n",
              "...         ...          ...             ...             ...      ...     ...   \n",
              "1323895  370478  2867.070717       10.8.0.14  173.194.76.127      UDP     143   \n",
              "1323896  370479  2867.073160  173.194.76.127       10.8.0.14      UDP      74   \n",
              "1323897  370480  2867.073192  173.194.76.127       10.8.0.14      UDP      66   \n",
              "1323898  370481  2867.089662  173.194.76.127       10.8.0.14      UDP     143   \n",
              "1323899  370482  2867.090273       10.8.0.14  173.194.76.127      UDP     143   \n",
              "\n",
              "           Label                                               Info  \n",
              "0        NON-VPN                                   Application Data  \n",
              "1        NON-VPN           Standard query 0x5dc4 A www.facebook.com  \n",
              "2        NON-VPN  Standard query response 0x5dc4 A www.facebook....  \n",
              "3        NON-VPN        Standard query 0xd12d AAAA www.facebook.com  \n",
              "4        NON-VPN  Standard query response 0xd12d AAAA www.facebo...  \n",
              "...          ...                                                ...  \n",
              "1323895      VPN                            51351  >  19305 Len=115  \n",
              "1323896      VPN                             19305  >  51351 Len=46  \n",
              "1323897      VPN                             19305  >  51351 Len=38  \n",
              "1323898      VPN                            19305  >  51351 Len=115  \n",
              "1323899      VPN                            51351  >  19305 Len=115  \n",
              "\n",
              "[1323900 rows x 8 columns]"
            ]
          },
          "execution_count": 2,
          "metadata": {},
          "output_type": "execute_result"
        }
      ],
      "source": [
        "df=pd.read_csv(\"./dataset.csv\")\n",
        "df"
      ]
    },
    {
      "cell_type": "code",
      "execution_count": null,
      "metadata": {
        "colab": {
          "base_uri": "https://localhost:8080/"
        },
        "id": "mmTThCyPlloB",
        "outputId": "077fe59b-3e88-4014-d1f7-41fde0460f9b"
      },
      "outputs": [
        {
          "name": "stdout",
          "output_type": "stream",
          "text": [
            "<class 'pandas.core.frame.DataFrame'>\n",
            "RangeIndex: 1323900 entries, 0 to 1323899\n",
            "Data columns (total 8 columns):\n",
            " #   Column       Non-Null Count    Dtype  \n",
            "---  ------       --------------    -----  \n",
            " 0   No.          1323900 non-null  int64  \n",
            " 1   Time         1323900 non-null  float64\n",
            " 2   Source       1323900 non-null  object \n",
            " 3   Destination  1323900 non-null  object \n",
            " 4   Protocol     1323900 non-null  object \n",
            " 5   Length       1323900 non-null  int64  \n",
            " 6   Label        1323900 non-null  object \n",
            " 7   Info         1323884 non-null  object \n",
            "dtypes: float64(1), int64(2), object(5)\n",
            "memory usage: 80.8+ MB\n"
          ]
        }
      ],
      "source": [
        "df.info()"
      ]
    },
    {
      "cell_type": "code",
      "execution_count": null,
      "metadata": {
        "colab": {
          "base_uri": "https://localhost:8080/",
          "height": 424
        },
        "id": "8p07n4k8o3D0",
        "outputId": "1689c5d7-ff72-43e3-ff0a-489fc72c8fc2"
      },
      "outputs": [
        {
          "data": {
            "text/html": [
              "<div>\n",
              "<style scoped>\n",
              "    .dataframe tbody tr th:only-of-type {\n",
              "        vertical-align: middle;\n",
              "    }\n",
              "\n",
              "    .dataframe tbody tr th {\n",
              "        vertical-align: top;\n",
              "    }\n",
              "\n",
              "    .dataframe thead th {\n",
              "        text-align: right;\n",
              "    }\n",
              "</style>\n",
              "<table border=\"1\" class=\"dataframe\">\n",
              "  <thead>\n",
              "    <tr style=\"text-align: right;\">\n",
              "      <th></th>\n",
              "      <th>No.</th>\n",
              "      <th>Time</th>\n",
              "      <th>Source</th>\n",
              "      <th>Protocol</th>\n",
              "      <th>Length</th>\n",
              "      <th>Label</th>\n",
              "    </tr>\n",
              "  </thead>\n",
              "  <tbody>\n",
              "    <tr>\n",
              "      <th>0</th>\n",
              "      <td>1</td>\n",
              "      <td>0.000000</td>\n",
              "      <td>131.202.240.87</td>\n",
              "      <td>TLSv1.2</td>\n",
              "      <td>1181</td>\n",
              "      <td>NON-VPN</td>\n",
              "    </tr>\n",
              "    <tr>\n",
              "      <th>1</th>\n",
              "      <td>2</td>\n",
              "      <td>0.002719</td>\n",
              "      <td>131.202.240.87</td>\n",
              "      <td>DNS</td>\n",
              "      <td>76</td>\n",
              "      <td>NON-VPN</td>\n",
              "    </tr>\n",
              "    <tr>\n",
              "      <th>2</th>\n",
              "      <td>3</td>\n",
              "      <td>0.078089</td>\n",
              "      <td>131.202.244.3</td>\n",
              "      <td>DNS</td>\n",
              "      <td>183</td>\n",
              "      <td>NON-VPN</td>\n",
              "    </tr>\n",
              "    <tr>\n",
              "      <th>3</th>\n",
              "      <td>4</td>\n",
              "      <td>0.078691</td>\n",
              "      <td>131.202.240.87</td>\n",
              "      <td>DNS</td>\n",
              "      <td>76</td>\n",
              "      <td>NON-VPN</td>\n",
              "    </tr>\n",
              "    <tr>\n",
              "      <th>4</th>\n",
              "      <td>5</td>\n",
              "      <td>0.079078</td>\n",
              "      <td>131.202.244.3</td>\n",
              "      <td>DNS</td>\n",
              "      <td>195</td>\n",
              "      <td>NON-VPN</td>\n",
              "    </tr>\n",
              "    <tr>\n",
              "      <th>...</th>\n",
              "      <td>...</td>\n",
              "      <td>...</td>\n",
              "      <td>...</td>\n",
              "      <td>...</td>\n",
              "      <td>...</td>\n",
              "      <td>...</td>\n",
              "    </tr>\n",
              "    <tr>\n",
              "      <th>1323895</th>\n",
              "      <td>370478</td>\n",
              "      <td>2867.070717</td>\n",
              "      <td>10.8.0.14</td>\n",
              "      <td>UDP</td>\n",
              "      <td>143</td>\n",
              "      <td>VPN</td>\n",
              "    </tr>\n",
              "    <tr>\n",
              "      <th>1323896</th>\n",
              "      <td>370479</td>\n",
              "      <td>2867.073160</td>\n",
              "      <td>173.194.76.127</td>\n",
              "      <td>UDP</td>\n",
              "      <td>74</td>\n",
              "      <td>VPN</td>\n",
              "    </tr>\n",
              "    <tr>\n",
              "      <th>1323897</th>\n",
              "      <td>370480</td>\n",
              "      <td>2867.073192</td>\n",
              "      <td>173.194.76.127</td>\n",
              "      <td>UDP</td>\n",
              "      <td>66</td>\n",
              "      <td>VPN</td>\n",
              "    </tr>\n",
              "    <tr>\n",
              "      <th>1323898</th>\n",
              "      <td>370481</td>\n",
              "      <td>2867.089662</td>\n",
              "      <td>173.194.76.127</td>\n",
              "      <td>UDP</td>\n",
              "      <td>143</td>\n",
              "      <td>VPN</td>\n",
              "    </tr>\n",
              "    <tr>\n",
              "      <th>1323899</th>\n",
              "      <td>370482</td>\n",
              "      <td>2867.090273</td>\n",
              "      <td>10.8.0.14</td>\n",
              "      <td>UDP</td>\n",
              "      <td>143</td>\n",
              "      <td>VPN</td>\n",
              "    </tr>\n",
              "  </tbody>\n",
              "</table>\n",
              "<p>1323884 rows × 6 columns</p>\n",
              "</div>"
            ],
            "text/plain": [
              "            No.         Time          Source Protocol  Length    Label\n",
              "0             1     0.000000  131.202.240.87  TLSv1.2    1181  NON-VPN\n",
              "1             2     0.002719  131.202.240.87      DNS      76  NON-VPN\n",
              "2             3     0.078089   131.202.244.3      DNS     183  NON-VPN\n",
              "3             4     0.078691  131.202.240.87      DNS      76  NON-VPN\n",
              "4             5     0.079078   131.202.244.3      DNS     195  NON-VPN\n",
              "...         ...          ...             ...      ...     ...      ...\n",
              "1323895  370478  2867.070717       10.8.0.14      UDP     143      VPN\n",
              "1323896  370479  2867.073160  173.194.76.127      UDP      74      VPN\n",
              "1323897  370480  2867.073192  173.194.76.127      UDP      66      VPN\n",
              "1323898  370481  2867.089662  173.194.76.127      UDP     143      VPN\n",
              "1323899  370482  2867.090273       10.8.0.14      UDP     143      VPN\n",
              "\n",
              "[1323884 rows x 6 columns]"
            ]
          },
          "execution_count": 4,
          "metadata": {},
          "output_type": "execute_result"
        }
      ],
      "source": [
        "df = df.dropna()\n",
        "df=df.drop(['Info','Destination'], axis=1)\n",
        "df"
      ]
    },
    {
      "cell_type": "code",
      "execution_count": null,
      "metadata": {
        "colab": {
          "base_uri": "https://localhost:8080/"
        },
        "id": "138jjvnUo7aH",
        "outputId": "e08165de-3562-4e6a-b5bf-1cf6a63be846"
      },
      "outputs": [
        {
          "data": {
            "text/plain": [
              "Index(['Source', 'Protocol', 'Label'], dtype='object')"
            ]
          },
          "execution_count": 5,
          "metadata": {},
          "output_type": "execute_result"
        }
      ],
      "source": [
        "objList = df.select_dtypes(include = \"object\").columns\n",
        "objList"
      ]
    },
    {
      "cell_type": "code",
      "execution_count": null,
      "metadata": {
        "colab": {
          "base_uri": "https://localhost:8080/"
        },
        "id": "R5nmYiVqpAdz",
        "outputId": "b6e02cc2-eae9-43e0-e06d-5ffd18c2be43"
      },
      "outputs": [
        {
          "name": "stdout",
          "output_type": "stream",
          "text": [
            "<class 'pandas.core.frame.DataFrame'>\n",
            "Int64Index: 1323884 entries, 0 to 1323899\n",
            "Data columns (total 6 columns):\n",
            " #   Column    Non-Null Count    Dtype  \n",
            "---  ------    --------------    -----  \n",
            " 0   No.       1323884 non-null  int64  \n",
            " 1   Time      1323884 non-null  float64\n",
            " 2   Source    1323884 non-null  int32  \n",
            " 3   Protocol  1323884 non-null  int32  \n",
            " 4   Length    1323884 non-null  int64  \n",
            " 5   Label     1323884 non-null  int32  \n",
            "dtypes: float64(1), int32(3), int64(2)\n",
            "memory usage: 55.6 MB\n",
            "None\n"
          ]
        },
        {
          "data": {
            "text/plain": [
              "1    662185\n",
              "0    661699\n",
              "Name: Label, dtype: int64"
            ]
          },
          "execution_count": 6,
          "metadata": {},
          "output_type": "execute_result"
        }
      ],
      "source": [
        "le = LabelEncoder()\n",
        "for feat in objList:\n",
        "    df[feat] = le.fit_transform(df[feat].astype(str))\n",
        "print (df.info())\n",
        "df['Label'].value_counts()"
      ]
    },
    {
      "cell_type": "code",
      "execution_count": null,
      "metadata": {
        "colab": {
          "base_uri": "https://localhost:8080/",
          "height": 424
        },
        "id": "HljaMifFpVvN",
        "outputId": "79048618-30fc-4c4b-90a5-fac7c12d0e54"
      },
      "outputs": [
        {
          "data": {
            "text/html": [
              "<div>\n",
              "<style scoped>\n",
              "    .dataframe tbody tr th:only-of-type {\n",
              "        vertical-align: middle;\n",
              "    }\n",
              "\n",
              "    .dataframe tbody tr th {\n",
              "        vertical-align: top;\n",
              "    }\n",
              "\n",
              "    .dataframe thead th {\n",
              "        text-align: right;\n",
              "    }\n",
              "</style>\n",
              "<table border=\"1\" class=\"dataframe\">\n",
              "  <thead>\n",
              "    <tr style=\"text-align: right;\">\n",
              "      <th></th>\n",
              "      <th>No.</th>\n",
              "      <th>Time</th>\n",
              "      <th>Source</th>\n",
              "      <th>Protocol</th>\n",
              "      <th>Length</th>\n",
              "      <th>Label</th>\n",
              "    </tr>\n",
              "  </thead>\n",
              "  <tbody>\n",
              "    <tr>\n",
              "      <th>0</th>\n",
              "      <td>1</td>\n",
              "      <td>0.000000</td>\n",
              "      <td>44</td>\n",
              "      <td>38</td>\n",
              "      <td>1181</td>\n",
              "      <td>0</td>\n",
              "    </tr>\n",
              "    <tr>\n",
              "      <th>1</th>\n",
              "      <td>2</td>\n",
              "      <td>0.002719</td>\n",
              "      <td>44</td>\n",
              "      <td>6</td>\n",
              "      <td>76</td>\n",
              "      <td>0</td>\n",
              "    </tr>\n",
              "    <tr>\n",
              "      <th>2</th>\n",
              "      <td>3</td>\n",
              "      <td>0.078089</td>\n",
              "      <td>103</td>\n",
              "      <td>6</td>\n",
              "      <td>183</td>\n",
              "      <td>0</td>\n",
              "    </tr>\n",
              "    <tr>\n",
              "      <th>3</th>\n",
              "      <td>4</td>\n",
              "      <td>0.078691</td>\n",
              "      <td>44</td>\n",
              "      <td>6</td>\n",
              "      <td>76</td>\n",
              "      <td>0</td>\n",
              "    </tr>\n",
              "    <tr>\n",
              "      <th>4</th>\n",
              "      <td>5</td>\n",
              "      <td>0.079078</td>\n",
              "      <td>103</td>\n",
              "      <td>6</td>\n",
              "      <td>195</td>\n",
              "      <td>0</td>\n",
              "    </tr>\n",
              "    <tr>\n",
              "      <th>...</th>\n",
              "      <td>...</td>\n",
              "      <td>...</td>\n",
              "      <td>...</td>\n",
              "      <td>...</td>\n",
              "      <td>...</td>\n",
              "      <td>...</td>\n",
              "    </tr>\n",
              "    <tr>\n",
              "      <th>1323895</th>\n",
              "      <td>370478</td>\n",
              "      <td>2867.070717</td>\n",
              "      <td>3</td>\n",
              "      <td>39</td>\n",
              "      <td>143</td>\n",
              "      <td>1</td>\n",
              "    </tr>\n",
              "    <tr>\n",
              "      <th>1323896</th>\n",
              "      <td>370479</td>\n",
              "      <td>2867.073160</td>\n",
              "      <td>172</td>\n",
              "      <td>39</td>\n",
              "      <td>74</td>\n",
              "      <td>1</td>\n",
              "    </tr>\n",
              "    <tr>\n",
              "      <th>1323897</th>\n",
              "      <td>370480</td>\n",
              "      <td>2867.073192</td>\n",
              "      <td>172</td>\n",
              "      <td>39</td>\n",
              "      <td>66</td>\n",
              "      <td>1</td>\n",
              "    </tr>\n",
              "    <tr>\n",
              "      <th>1323898</th>\n",
              "      <td>370481</td>\n",
              "      <td>2867.089662</td>\n",
              "      <td>172</td>\n",
              "      <td>39</td>\n",
              "      <td>143</td>\n",
              "      <td>1</td>\n",
              "    </tr>\n",
              "    <tr>\n",
              "      <th>1323899</th>\n",
              "      <td>370482</td>\n",
              "      <td>2867.090273</td>\n",
              "      <td>3</td>\n",
              "      <td>39</td>\n",
              "      <td>143</td>\n",
              "      <td>1</td>\n",
              "    </tr>\n",
              "  </tbody>\n",
              "</table>\n",
              "<p>1323884 rows × 6 columns</p>\n",
              "</div>"
            ],
            "text/plain": [
              "            No.         Time  Source  Protocol  Length  Label\n",
              "0             1     0.000000      44        38    1181      0\n",
              "1             2     0.002719      44         6      76      0\n",
              "2             3     0.078089     103         6     183      0\n",
              "3             4     0.078691      44         6      76      0\n",
              "4             5     0.079078     103         6     195      0\n",
              "...         ...          ...     ...       ...     ...    ...\n",
              "1323895  370478  2867.070717       3        39     143      1\n",
              "1323896  370479  2867.073160     172        39      74      1\n",
              "1323897  370480  2867.073192     172        39      66      1\n",
              "1323898  370481  2867.089662     172        39     143      1\n",
              "1323899  370482  2867.090273       3        39     143      1\n",
              "\n",
              "[1323884 rows x 6 columns]"
            ]
          },
          "execution_count": 7,
          "metadata": {},
          "output_type": "execute_result"
        }
      ],
      "source": [
        "df"
      ]
    },
    {
      "cell_type": "code",
      "execution_count": null,
      "metadata": {
        "colab": {
          "base_uri": "https://localhost:8080/",
          "height": 206
        },
        "id": "mDGli8TPqPtm",
        "outputId": "17ba7eac-8127-4503-e7f2-f87c6b6e0d96"
      },
      "outputs": [
        {
          "data": {
            "text/html": [
              "<div>\n",
              "<style scoped>\n",
              "    .dataframe tbody tr th:only-of-type {\n",
              "        vertical-align: middle;\n",
              "    }\n",
              "\n",
              "    .dataframe tbody tr th {\n",
              "        vertical-align: top;\n",
              "    }\n",
              "\n",
              "    .dataframe thead th {\n",
              "        text-align: right;\n",
              "    }\n",
              "</style>\n",
              "<table border=\"1\" class=\"dataframe\">\n",
              "  <thead>\n",
              "    <tr style=\"text-align: right;\">\n",
              "      <th></th>\n",
              "      <th>No.</th>\n",
              "      <th>Time</th>\n",
              "      <th>Source</th>\n",
              "      <th>Protocol</th>\n",
              "      <th>Length</th>\n",
              "    </tr>\n",
              "  </thead>\n",
              "  <tbody>\n",
              "    <tr>\n",
              "      <th>0</th>\n",
              "      <td>1</td>\n",
              "      <td>0.000000</td>\n",
              "      <td>44</td>\n",
              "      <td>38</td>\n",
              "      <td>1181</td>\n",
              "    </tr>\n",
              "    <tr>\n",
              "      <th>1</th>\n",
              "      <td>2</td>\n",
              "      <td>0.002719</td>\n",
              "      <td>44</td>\n",
              "      <td>6</td>\n",
              "      <td>76</td>\n",
              "    </tr>\n",
              "    <tr>\n",
              "      <th>2</th>\n",
              "      <td>3</td>\n",
              "      <td>0.078089</td>\n",
              "      <td>103</td>\n",
              "      <td>6</td>\n",
              "      <td>183</td>\n",
              "    </tr>\n",
              "    <tr>\n",
              "      <th>3</th>\n",
              "      <td>4</td>\n",
              "      <td>0.078691</td>\n",
              "      <td>44</td>\n",
              "      <td>6</td>\n",
              "      <td>76</td>\n",
              "    </tr>\n",
              "    <tr>\n",
              "      <th>4</th>\n",
              "      <td>5</td>\n",
              "      <td>0.079078</td>\n",
              "      <td>103</td>\n",
              "      <td>6</td>\n",
              "      <td>195</td>\n",
              "    </tr>\n",
              "  </tbody>\n",
              "</table>\n",
              "</div>"
            ],
            "text/plain": [
              "   No.      Time  Source  Protocol  Length\n",
              "0    1  0.000000      44        38    1181\n",
              "1    2  0.002719      44         6      76\n",
              "2    3  0.078089     103         6     183\n",
              "3    4  0.078691      44         6      76\n",
              "4    5  0.079078     103         6     195"
            ]
          },
          "execution_count": 8,
          "metadata": {},
          "output_type": "execute_result"
        }
      ],
      "source": [
        "X=df.drop(['Label'], axis=1)\n",
        "X.head()"
      ]
    },
    {
      "cell_type": "code",
      "execution_count": null,
      "metadata": {
        "colab": {
          "base_uri": "https://localhost:8080/"
        },
        "id": "1azXK2NGqWFC",
        "outputId": "495bde40-15aa-40f9-c629-da89a04fdcb7"
      },
      "outputs": [
        {
          "data": {
            "text/plain": [
              "0    0\n",
              "1    0\n",
              "2    0\n",
              "3    0\n",
              "4    0\n",
              "Name: Label, dtype: int32"
            ]
          },
          "execution_count": 9,
          "metadata": {},
          "output_type": "execute_result"
        }
      ],
      "source": [
        "Y=df['Label']\n",
        "Y.head()"
      ]
    },
    {
      "cell_type": "code",
      "execution_count": null,
      "metadata": {
        "id": "GarME44sqaSq"
      },
      "outputs": [],
      "source": [
        "X_train, X_test, y_train, y_test = train_test_split(X, Y, test_size=0.3, random_state=50)"
      ]
    },
    {
      "cell_type": "code",
      "execution_count": null,
      "metadata": {
        "colab": {
          "base_uri": "https://localhost:8080/"
        },
        "id": "rug0B4uFqgK1",
        "outputId": "69f256c2-7bb4-4f69-8a35-0dd155b9331b"
      },
      "outputs": [
        {
          "data": {
            "text/plain": [
              "array([[-1.07578122, -0.7474238 , -0.63718752,  0.39646751, -0.8371444 ],\n",
              "       [ 0.65729603,  0.96639914,  1.06924591,  0.39646751, -0.79458619],\n",
              "       [-0.75354006, -0.62949601, -0.33993783,  0.39646751,  1.00951185],\n",
              "       ...,\n",
              "       [-1.03775425,  0.29579517,  1.79585627, -0.27876845, -0.94631546],\n",
              "       [-0.40709519, -0.60873799, -0.63718752,  0.39646751,  1.18159505],\n",
              "       [ 0.95424134,  1.2635523 ,  0.77199621,  0.26142032, -0.86119904]])"
            ]
          },
          "execution_count": 11,
          "metadata": {},
          "output_type": "execute_result"
        }
      ],
      "source": [
        "sc=StandardScaler()\n",
        "X_train=sc.fit_transform(X_train)\n",
        "X_test=sc.transform(X_test)\n",
        "X_train"
      ]
    },
    {
      "cell_type": "code",
      "execution_count": null,
      "metadata": {
        "id": "Gv8phZxo2MrD"
      },
      "outputs": [],
      "source": [
        "from sklearn.decomposition import PCA\n",
        "  \n",
        "pca = PCA(n_components = 2)\n",
        "  \n",
        "X_train = pca.fit_transform(X_train)\n",
        "X_test = pca.transform(X_test)\n",
        "  \n",
        "explained_variance = pca.explained_variance_ratio_"
      ]
    },
    {
      "cell_type": "code",
      "execution_count": null,
      "metadata": {
        "id": "kxLm0cJ71bFz"
      },
      "outputs": [],
      "source": [
        "dtree_model=AdaBoostClassifier(random_state=50).fit(X_train,y_train)"
      ]
    },
    {
      "cell_type": "code",
      "execution_count": null,
      "metadata": {
        "id": "5DaiY8qQ1g3k"
      },
      "outputs": [],
      "source": [
        "dtree_predictions = dtree_model.predict(X_test)#testing"
      ]
    },
    {
      "cell_type": "code",
      "execution_count": null,
      "metadata": {
        "id": "tXGNC9ohNAwq"
      },
      "outputs": [],
      "source": [
        "from sklearn.metrics import confusion_matrix"
      ]
    },
    {
      "cell_type": "code",
      "execution_count": null,
      "metadata": {
        "colab": {
          "base_uri": "https://localhost:8080/"
        },
        "id": "sPrBOQjdNG0H",
        "outputId": "b2aeff3d-5c9b-405f-a3ec-4e52fe60e7db"
      },
      "outputs": [
        {
          "name": "stdout",
          "output_type": "stream",
          "text": [
            "[[169320  29028]\n",
            " [ 15617 183201]]\n",
            "ACCURACY OF THE MODEL:  0.8875910828217924\n"
          ]
        }
      ],
      "source": [
        "from sklearn.metrics import confusion_matrix\n",
        "cm = confusion_matrix(y_test, dtree_predictions)\n",
        "\n",
        "\n",
        "print(cm)\n",
        "print(\"ACCURACY OF THE MODEL: \", metrics.accuracy_score(y_test, dtree_predictions))"
      ]
    },
    {
      "cell_type": "code",
      "execution_count": null,
      "metadata": {
        "id": "XzDlc-SWNhbD",
        "outputId": "0cfc2bda-4d35-4c31-825f-0cdc8a3e03ba"
      },
      "outputs": [
        {
          "name": "stdout",
          "output_type": "stream",
          "text": [
            "              precision    recall  f1-score   support\n",
            "\n",
            "           0       0.92      0.85      0.88    198348\n",
            "           1       0.86      0.92      0.89    198818\n",
            "\n",
            "    accuracy                           0.89    397166\n",
            "   macro avg       0.89      0.89      0.89    397166\n",
            "weighted avg       0.89      0.89      0.89    397166\n",
            "\n",
            "0.8875910828217924\n"
          ]
        }
      ],
      "source": [
        "from sklearn.metrics import (roc_curve, auc, roc_auc_score,confusion_matrix,classification_report)\n",
        "\n",
        "print(classification_report(y_test,dtree_predictions))\n",
        "\n",
        "print( metrics.accuracy_score(y_test, dtree_predictions))"
      ]
    }
  ],
  "metadata": {
    "colab": {
      "provenance": []
    },
    "kernelspec": {
      "display_name": "Python 3 (ipykernel)",
      "language": "python",
      "name": "python3"
    },
    "language_info": {
      "codemirror_mode": {
        "name": "ipython",
        "version": 3
      },
      "file_extension": ".py",
      "mimetype": "text/x-python",
      "name": "python",
      "nbconvert_exporter": "python",
      "pygments_lexer": "ipython3",
      "version": "3.10.5"
    }
  },
  "nbformat": 4,
  "nbformat_minor": 0
}