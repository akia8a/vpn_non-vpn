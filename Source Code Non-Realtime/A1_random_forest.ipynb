{
  "cells": [
    {
      "cell_type": "code",
      "execution_count": null,
      "id": "b879f5ed",
      "metadata": {
        "id": "b879f5ed",
        "outputId": "6e996ccb-2b54-42b5-cd77-2f05e4e38906"
      },
      "outputs": [
        {
          "data": {
            "text/html": [
              "<div>\n",
              "<style scoped>\n",
              "    .dataframe tbody tr th:only-of-type {\n",
              "        vertical-align: middle;\n",
              "    }\n",
              "\n",
              "    .dataframe tbody tr th {\n",
              "        vertical-align: top;\n",
              "    }\n",
              "\n",
              "    .dataframe thead th {\n",
              "        text-align: right;\n",
              "    }\n",
              "</style>\n",
              "<table border=\"1\" class=\"dataframe\">\n",
              "  <thead>\n",
              "    <tr style=\"text-align: right;\">\n",
              "      <th></th>\n",
              "      <th>No.</th>\n",
              "      <th>Time</th>\n",
              "      <th>Source</th>\n",
              "      <th>Destination</th>\n",
              "      <th>Protocol</th>\n",
              "      <th>Length</th>\n",
              "      <th>Label</th>\n",
              "      <th>Info</th>\n",
              "    </tr>\n",
              "  </thead>\n",
              "  <tbody>\n",
              "    <tr>\n",
              "      <th>0</th>\n",
              "      <td>1</td>\n",
              "      <td>0.000000</td>\n",
              "      <td>131.202.240.87</td>\n",
              "      <td>173.252.100.27</td>\n",
              "      <td>TLSv1.2</td>\n",
              "      <td>1181</td>\n",
              "      <td>NON-VPN</td>\n",
              "      <td>Application Data</td>\n",
              "    </tr>\n",
              "    <tr>\n",
              "      <th>1</th>\n",
              "      <td>2</td>\n",
              "      <td>0.002719</td>\n",
              "      <td>131.202.240.87</td>\n",
              "      <td>131.202.244.3</td>\n",
              "      <td>DNS</td>\n",
              "      <td>76</td>\n",
              "      <td>NON-VPN</td>\n",
              "      <td>Standard query 0x5dc4 A www.facebook.com</td>\n",
              "    </tr>\n",
              "    <tr>\n",
              "      <th>2</th>\n",
              "      <td>3</td>\n",
              "      <td>0.078089</td>\n",
              "      <td>131.202.244.3</td>\n",
              "      <td>131.202.240.87</td>\n",
              "      <td>DNS</td>\n",
              "      <td>183</td>\n",
              "      <td>NON-VPN</td>\n",
              "      <td>Standard query response 0x5dc4 A www.facebook....</td>\n",
              "    </tr>\n",
              "    <tr>\n",
              "      <th>3</th>\n",
              "      <td>4</td>\n",
              "      <td>0.078691</td>\n",
              "      <td>131.202.240.87</td>\n",
              "      <td>131.202.244.3</td>\n",
              "      <td>DNS</td>\n",
              "      <td>76</td>\n",
              "      <td>NON-VPN</td>\n",
              "      <td>Standard query 0xd12d AAAA www.facebook.com</td>\n",
              "    </tr>\n",
              "    <tr>\n",
              "      <th>4</th>\n",
              "      <td>5</td>\n",
              "      <td>0.079078</td>\n",
              "      <td>131.202.244.3</td>\n",
              "      <td>131.202.240.87</td>\n",
              "      <td>DNS</td>\n",
              "      <td>195</td>\n",
              "      <td>NON-VPN</td>\n",
              "      <td>Standard query response 0xd12d AAAA www.facebo...</td>\n",
              "    </tr>\n",
              "    <tr>\n",
              "      <th>...</th>\n",
              "      <td>...</td>\n",
              "      <td>...</td>\n",
              "      <td>...</td>\n",
              "      <td>...</td>\n",
              "      <td>...</td>\n",
              "      <td>...</td>\n",
              "      <td>...</td>\n",
              "      <td>...</td>\n",
              "    </tr>\n",
              "    <tr>\n",
              "      <th>1323895</th>\n",
              "      <td>370478</td>\n",
              "      <td>2867.070717</td>\n",
              "      <td>10.8.0.14</td>\n",
              "      <td>173.194.76.127</td>\n",
              "      <td>UDP</td>\n",
              "      <td>143</td>\n",
              "      <td>VPN</td>\n",
              "      <td>51351  &gt;  19305 Len=115</td>\n",
              "    </tr>\n",
              "    <tr>\n",
              "      <th>1323896</th>\n",
              "      <td>370479</td>\n",
              "      <td>2867.073160</td>\n",
              "      <td>173.194.76.127</td>\n",
              "      <td>10.8.0.14</td>\n",
              "      <td>UDP</td>\n",
              "      <td>74</td>\n",
              "      <td>VPN</td>\n",
              "      <td>19305  &gt;  51351 Len=46</td>\n",
              "    </tr>\n",
              "    <tr>\n",
              "      <th>1323897</th>\n",
              "      <td>370480</td>\n",
              "      <td>2867.073192</td>\n",
              "      <td>173.194.76.127</td>\n",
              "      <td>10.8.0.14</td>\n",
              "      <td>UDP</td>\n",
              "      <td>66</td>\n",
              "      <td>VPN</td>\n",
              "      <td>19305  &gt;  51351 Len=38</td>\n",
              "    </tr>\n",
              "    <tr>\n",
              "      <th>1323898</th>\n",
              "      <td>370481</td>\n",
              "      <td>2867.089662</td>\n",
              "      <td>173.194.76.127</td>\n",
              "      <td>10.8.0.14</td>\n",
              "      <td>UDP</td>\n",
              "      <td>143</td>\n",
              "      <td>VPN</td>\n",
              "      <td>19305  &gt;  51351 Len=115</td>\n",
              "    </tr>\n",
              "    <tr>\n",
              "      <th>1323899</th>\n",
              "      <td>370482</td>\n",
              "      <td>2867.090273</td>\n",
              "      <td>10.8.0.14</td>\n",
              "      <td>173.194.76.127</td>\n",
              "      <td>UDP</td>\n",
              "      <td>143</td>\n",
              "      <td>VPN</td>\n",
              "      <td>51351  &gt;  19305 Len=115</td>\n",
              "    </tr>\n",
              "  </tbody>\n",
              "</table>\n",
              "<p>1323900 rows × 8 columns</p>\n",
              "</div>"
            ],
            "text/plain": [
              "            No.         Time          Source     Destination Protocol  Length  \\\n",
              "0             1     0.000000  131.202.240.87  173.252.100.27  TLSv1.2    1181   \n",
              "1             2     0.002719  131.202.240.87   131.202.244.3      DNS      76   \n",
              "2             3     0.078089   131.202.244.3  131.202.240.87      DNS     183   \n",
              "3             4     0.078691  131.202.240.87   131.202.244.3      DNS      76   \n",
              "4             5     0.079078   131.202.244.3  131.202.240.87      DNS     195   \n",
              "...         ...          ...             ...             ...      ...     ...   \n",
              "1323895  370478  2867.070717       10.8.0.14  173.194.76.127      UDP     143   \n",
              "1323896  370479  2867.073160  173.194.76.127       10.8.0.14      UDP      74   \n",
              "1323897  370480  2867.073192  173.194.76.127       10.8.0.14      UDP      66   \n",
              "1323898  370481  2867.089662  173.194.76.127       10.8.0.14      UDP     143   \n",
              "1323899  370482  2867.090273       10.8.0.14  173.194.76.127      UDP     143   \n",
              "\n",
              "           Label                                               Info  \n",
              "0        NON-VPN                                   Application Data  \n",
              "1        NON-VPN           Standard query 0x5dc4 A www.facebook.com  \n",
              "2        NON-VPN  Standard query response 0x5dc4 A www.facebook....  \n",
              "3        NON-VPN        Standard query 0xd12d AAAA www.facebook.com  \n",
              "4        NON-VPN  Standard query response 0xd12d AAAA www.facebo...  \n",
              "...          ...                                                ...  \n",
              "1323895      VPN                            51351  >  19305 Len=115  \n",
              "1323896      VPN                             19305  >  51351 Len=46  \n",
              "1323897      VPN                             19305  >  51351 Len=38  \n",
              "1323898      VPN                            19305  >  51351 Len=115  \n",
              "1323899      VPN                            51351  >  19305 Len=115  \n",
              "\n",
              "[1323900 rows x 8 columns]"
            ]
          },
          "execution_count": 24,
          "metadata": {},
          "output_type": "execute_result"
        }
      ],
      "source": [
        "import pandas as pd\n",
        "import pandas as pd\n",
        "from sklearn.ensemble import RandomForestClassifier\n",
        "from sklearn.tree import DecisionTreeClassifier \n",
        "from sklearn.model_selection import train_test_split\n",
        "from sklearn import metrics \n",
        "from sklearn.preprocessing import LabelEncoder\n",
        "from matplotlib import pyplot as plt \n",
        "import numpy as np\n",
        "from sklearn.tree import DecisionTreeClassifier \n",
        "from sklearn.model_selection import train_test_split\n",
        "from sklearn import metrics \n",
        "from sklearn.preprocessing import LabelEncoder\n",
        "from matplotlib import pyplot as plt \n",
        "import numpy as np\n",
        "import matplotlib.pyplot as plt\n",
        "import numpy as np\n",
        "import pandas as pd\n",
        "# import pandas as pd\n",
        "from sklearn.tree import DecisionTreeClassifier # Import Decision Tree Classifier\n",
        "from sklearn.model_selection import train_test_split # Import train_test_split function\n",
        "from sklearn import metrics #Import scikit-learn metrics module for accuracy calculation\n",
        "from sklearn.preprocessing import LabelEncoder, StandardScaler\n",
        "\n",
        "df=pd.read_csv(\"./dataset.csv\")\n",
        "df"
      ]
    },
    {
      "cell_type": "code",
      "execution_count": null,
      "id": "19410438",
      "metadata": {
        "id": "19410438",
        "outputId": "878e1b15-5b6c-4a7b-87c9-deee61af9dd4"
      },
      "outputs": [
        {
          "name": "stdout",
          "output_type": "stream",
          "text": [
            "<class 'pandas.core.frame.DataFrame'>\n",
            "RangeIndex: 1323900 entries, 0 to 1323899\n",
            "Data columns (total 8 columns):\n",
            " #   Column       Non-Null Count    Dtype  \n",
            "---  ------       --------------    -----  \n",
            " 0   No.          1323900 non-null  int64  \n",
            " 1   Time         1323900 non-null  float64\n",
            " 2   Source       1323900 non-null  object \n",
            " 3   Destination  1323900 non-null  object \n",
            " 4   Protocol     1323900 non-null  object \n",
            " 5   Length       1323900 non-null  int64  \n",
            " 6   Label        1323900 non-null  object \n",
            " 7   Info         1323884 non-null  object \n",
            "dtypes: float64(1), int64(2), object(5)\n",
            "memory usage: 80.8+ MB\n"
          ]
        }
      ],
      "source": [
        "df.info()"
      ]
    },
    {
      "cell_type": "code",
      "execution_count": null,
      "id": "967f9378",
      "metadata": {
        "id": "967f9378",
        "outputId": "23e09e86-8121-4328-aefc-b45133627157"
      },
      "outputs": [
        {
          "name": "stdout",
          "output_type": "stream",
          "text": [
            "<class 'pandas.core.frame.DataFrame'>\n",
            "RangeIndex: 1323900 entries, 0 to 1323899\n",
            "Data columns (total 7 columns):\n",
            " #   Column       Non-Null Count    Dtype  \n",
            "---  ------       --------------    -----  \n",
            " 0   Time         1323900 non-null  float64\n",
            " 1   Source       1323900 non-null  object \n",
            " 2   Destination  1323900 non-null  object \n",
            " 3   Protocol     1323900 non-null  object \n",
            " 4   Length       1323900 non-null  int64  \n",
            " 5   Label        1323900 non-null  object \n",
            " 6   Info         1323884 non-null  object \n",
            "dtypes: float64(1), int64(1), object(5)\n",
            "memory usage: 70.7+ MB\n"
          ]
        }
      ],
      "source": [
        "col = ['No.']\n",
        "df = df.drop(col, axis=1)\n",
        "df.info()"
      ]
    },
    {
      "cell_type": "code",
      "execution_count": null,
      "id": "8d21728b",
      "metadata": {
        "id": "8d21728b",
        "outputId": "73efc4d7-3dc4-49d1-f1b2-23f03a70dbf8"
      },
      "outputs": [
        {
          "name": "stdout",
          "output_type": "stream",
          "text": [
            "<class 'pandas.core.frame.DataFrame'>\n",
            "RangeIndex: 1323900 entries, 0 to 1323899\n",
            "Data columns (total 6 columns):\n",
            " #   Column       Non-Null Count    Dtype  \n",
            "---  ------       --------------    -----  \n",
            " 0   Time         1323900 non-null  float64\n",
            " 1   Source       1323900 non-null  object \n",
            " 2   Destination  1323900 non-null  object \n",
            " 3   Protocol     1323900 non-null  object \n",
            " 4   Length       1323900 non-null  int64  \n",
            " 5   Label        1323900 non-null  object \n",
            "dtypes: float64(1), int64(1), object(4)\n",
            "memory usage: 60.6+ MB\n"
          ]
        }
      ],
      "source": [
        "col = ['Info']\n",
        "df = df.drop(col, axis=1)\n",
        "df.info()"
      ]
    },
    {
      "cell_type": "code",
      "execution_count": null,
      "id": "f417217e",
      "metadata": {
        "id": "f417217e",
        "outputId": "ca7756ff-1fde-4f94-acda-39049370c7fe"
      },
      "outputs": [
        {
          "name": "stdout",
          "output_type": "stream",
          "text": [
            "Index(['Source', 'Destination', 'Protocol', 'Label'], dtype='object')\n"
          ]
        }
      ],
      "source": [
        "objList = df.select_dtypes(include = \"object\").columns\n",
        "\n",
        "print (objList)\n"
      ]
    },
    {
      "cell_type": "code",
      "execution_count": null,
      "id": "390ff94e",
      "metadata": {
        "id": "390ff94e",
        "outputId": "977490f1-0e02-4a32-bf16-1fa22752ae65"
      },
      "outputs": [
        {
          "name": "stdout",
          "output_type": "stream",
          "text": [
            "<class 'pandas.core.frame.DataFrame'>\n",
            "RangeIndex: 1323900 entries, 0 to 1323899\n",
            "Data columns (total 6 columns):\n",
            " #   Column       Non-Null Count    Dtype  \n",
            "---  ------       --------------    -----  \n",
            " 0   Time         1323900 non-null  float64\n",
            " 1   Source       1323900 non-null  int32  \n",
            " 2   Destination  1323900 non-null  int32  \n",
            " 3   Protocol     1323900 non-null  int32  \n",
            " 4   Length       1323900 non-null  int64  \n",
            " 5   Label        1323900 non-null  int32  \n",
            "dtypes: float64(1), int32(4), int64(1)\n",
            "memory usage: 40.4 MB\n",
            "None\n"
          ]
        }
      ],
      "source": [
        "le = LabelEncoder()\n",
        "for feat in objList:\n",
        "    df[feat] = le.fit_transform(df[feat].astype(str))\n",
        "print (df.info())"
      ]
    },
    {
      "cell_type": "code",
      "execution_count": null,
      "id": "51e6d537",
      "metadata": {
        "id": "51e6d537"
      },
      "outputs": [],
      "source": [
        "X = df.drop('Label', axis=1)\n",
        "\n",
        "X.head()\n",
        "\n",
        "y=df['Label']\n",
        "\n",
        "y.head()\n",
        "\n",
        "X_train, X_test, y_train, y_test = train_test_split(X, y, test_size=0.2, random_state=100)\n"
      ]
    },
    {
      "cell_type": "code",
      "execution_count": null,
      "id": "879da133",
      "metadata": {
        "id": "879da133",
        "outputId": "b348508b-026a-4a3e-d6fd-30898e48c3b7"
      },
      "outputs": [
        {
          "data": {
            "text/plain": [
              "array([[ 2.64649567,  1.0679861 , -0.67661434,  0.39309013, -0.77553296],\n",
              "       [ 1.74846011, -0.79166393,  0.42223277,  0.26178693, -0.73111919],\n",
              "       [-0.68884313, -0.34050623, -0.50219416,  0.39309013,  1.13240845],\n",
              "       ...,\n",
              "       [-0.73023031,  1.32107457, -0.62428828, -0.26342587, -0.94578573],\n",
              "       [-0.67505648, -0.34050623, -0.50219416,  0.39309013,  1.15646591],\n",
              "       [ 0.76461282,  1.0679861 , -0.67661434,  0.39309013, -0.80699271]])"
            ]
          },
          "execution_count": 31,
          "metadata": {},
          "output_type": "execute_result"
        }
      ],
      "source": [
        "sc=StandardScaler()\n",
        "X_train=sc.fit_transform(X_train)\n",
        "X_test=sc.transform(X_test)\n",
        "X_train"
      ]
    },
    {
      "cell_type": "code",
      "execution_count": null,
      "id": "52c0034c",
      "metadata": {
        "id": "52c0034c"
      },
      "outputs": [],
      "source": [
        "from sklearn.decomposition import PCA\n",
        "  \n",
        "pca = PCA(n_components = 2)\n",
        "  \n",
        "X_train = pca.fit_transform(X_train)\n",
        "X_test = pca.transform(X_test)\n",
        "  \n",
        "explained_variance = pca.explained_variance_ratio_"
      ]
    },
    {
      "cell_type": "code",
      "execution_count": null,
      "id": "df134333",
      "metadata": {
        "id": "df134333",
        "outputId": "fcb42c49-faf8-4298-e818-3673f36379a8"
      },
      "outputs": [
        {
          "name": "stdout",
          "output_type": "stream",
          "text": [
            "\n",
            "ACCURACY OF THE MODEL:  0.9922803837147821\n"
          ]
        }
      ],
      "source": [
        "from sklearn.metrics import confusion_matrix\n",
        "from sklearn.model_selection import train_test_split\n",
        "\n",
        "# X_train, X_test, y_train, y_test = train_test_split(X, y, random_state = 10)\n",
        "\n",
        "\n",
        "# creating a RF classifier\n",
        "clf = RandomForestClassifier(n_estimators = 3,random_state=10) \n",
        " \n",
        "# Training the model on the training dataset\n",
        "# fit function is used to train the model using the training sets as parameters\n",
        "clf.fit(X_train, y_train)\n",
        " \n",
        "# performing predictions on the test dataset\n",
        "y_pred = clf.predict(X_test)\n",
        " \n",
        "# metrics are used to find accuracy or error\n",
        "from sklearn import metrics \n",
        "print()\n",
        " \n",
        "# using metrics module for accuracy calculation\n",
        "print(\"ACCURACY OF THE MODEL: \", metrics.accuracy_score(y_test, y_pred))"
      ]
    },
    {
      "cell_type": "code",
      "execution_count": null,
      "id": "5ceb27de",
      "metadata": {
        "id": "5ceb27de",
        "outputId": "1d671efd-6a96-49ee-f76e-ba94403850ae"
      },
      "outputs": [
        {
          "name": "stdout",
          "output_type": "stream",
          "text": [
            "[[131647   1025]\n",
            " [  1019 131089]]\n",
            "              precision    recall  f1-score   support\n",
            "\n",
            "           0       0.99      0.99      0.99    132672\n",
            "           1       0.99      0.99      0.99    132108\n",
            "\n",
            "    accuracy                           0.99    264780\n",
            "   macro avg       0.99      0.99      0.99    264780\n",
            "weighted avg       0.99      0.99      0.99    264780\n",
            "\n",
            "0.9922803837147821\n"
          ]
        }
      ],
      "source": [
        "from sklearn.metrics import classification_report, confusion_matrix, accuracy_score\n",
        "\n",
        "print(confusion_matrix(y_test,y_pred))\n",
        "print(classification_report(y_test,y_pred))\n",
        "print(accuracy_score(y_test, y_pred))"
      ]
    },
    {
      "cell_type": "code",
      "execution_count": null,
      "id": "037f1c7f",
      "metadata": {
        "id": "037f1c7f"
      },
      "outputs": [],
      "source": []
    }
  ],
  "metadata": {
    "kernelspec": {
      "display_name": "Python 3 (ipykernel)",
      "language": "python",
      "name": "python3"
    },
    "language_info": {
      "codemirror_mode": {
        "name": "ipython",
        "version": 3
      },
      "file_extension": ".py",
      "mimetype": "text/x-python",
      "name": "python",
      "nbconvert_exporter": "python",
      "pygments_lexer": "ipython3",
      "version": "3.10.5"
    },
    "colab": {
      "provenance": []
    }
  },
  "nbformat": 4,
  "nbformat_minor": 5
}